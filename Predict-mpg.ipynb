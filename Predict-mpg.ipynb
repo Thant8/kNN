{
  "cells": [
    {
      "cell_type": "markdown",
      "source": [
        "# Weighted k-NN \n",
        "### Read data\n",
        "\nRead data using `pandas`"
      ],
      "metadata": {}
    },
    {
      "cell_type": "code",
      "source": [
        "import pandas\n",
        "\n",
        "training_data = pandas.read_csv(\"auto_train.csv\")\n",
        "print(training_data.head())\n",
        "test_data = pandas.read_csv(\"auto_test.csv\")\n",
        "print(test_data.head())\n",
        "\n",
        "x = training_data.iloc[:,:-1]\n",
        "y = training_data.iloc[:,-1]\n",
        "\n",
        "x_test = test_data.iloc[:,:-1]\n",
        "y_test = test_data.iloc[:,-1]"
      ],
      "outputs": [
        {
          "output_type": "stream",
          "name": "stdout",
          "text": [
            "   displacement  horsepower   mpg\n",
            "0         307.0         130  18.0\n",
            "1         350.0         165  15.0\n",
            "2         318.0         150  18.0\n",
            "3         304.0         150  16.0\n",
            "4         302.0         140  17.0\n",
            "   displacement  horsepower   mpg\n",
            "0            89          71  31.9\n",
            "1            86          65  34.1\n",
            "2            98          80  35.7\n",
            "3           121          80  27.4\n",
            "4           183          77  25.4\n"
          ]
        }
      ],
      "execution_count": 5,
      "metadata": {
        "collapsed": false,
        "outputHidden": false,
        "inputHidden": false
      }
    },
    {
      "cell_type": "markdown",
      "source": [
        "### k-NN\n",
        "Implemented k Nearest Neighbor from scratch. Using the data in the training set, predicted the output for each example in the test, for k = 1, k = 3, and k = 20. Reported the squared error Err on the test set."
      ],
      "metadata": {}
    },
    {
      "cell_type": "code",
      "source": [
        "from kNN import kNN\n",
        "from sklearn.metrics import mean_squared_error\n",
        "\n",
        "for k in [1, 3, 20]:\n",
        "    classifier = kNN(x,y, k)\n",
        "    pred_test = classifier.predict(x_test)\n",
        "\n",
        "    test_error = mean_squared_error(y_test, pred_test)\n",
        "    print(\"Test error with k={}: {}\".format(k, test_error * len(y_test)/2))\n",
        "\n"
      ],
      "outputs": [
        {
          "output_type": "stream",
          "name": "stdout",
          "text": [
            "Test error with k=1: 2868.0049999999997\n",
            "Test error with k=3: 2794.729999999999\n",
            "Test error with k=20: 2746.1914125\n"
          ]
        }
      ],
      "execution_count": 6,
      "metadata": {
        "collapsed": false,
        "outputHidden": false,
        "inputHidden": false
      }
    },
    {
      "cell_type": "markdown",
      "source": [
        "### Weighted k-NN\n",
        "Instead of computing an average of the k neighbors, I computed a weighted average of the neighbors using a gaussian function to retrieve the weight for each neighbor."
      ],
      "metadata": {}
    },
    {
      "cell_type": "code",
      "source": [
        "from kNN import kNN\n",
        "\n",
        "for k in [1, 3, 20]:\n",
        "    classifier = kNN(x,y, k, weighted=True)\n",
        "    pred_test = classifier.predict(x_test)\n",
        "\n",
        "    test_error = mean_squared_error(y_test, pred_test)\n",
        "    print(\"Test error with k={}: {}\".format(k, test_error * len(y_test)/2))\n"
      ],
      "outputs": [
        {
          "output_type": "stream",
          "name": "stdout",
          "text": [
            "Test error with k=1: 2868.005\n",
            "Test error with k=3: 2757.3065023859417\n",
            "Test error with k=20: 2737.9437262401907\n"
          ]
        }
      ],
      "execution_count": 7,
      "metadata": {
        "collapsed": false,
        "outputHidden": false,
        "inputHidden": false
      }
    }
  ],
  "metadata": {
    "kernelspec": {
      "name": "python3",
      "language": "python",
      "display_name": "Python 3"
    },
    "kernel_info": {
      "name": "python3"
    },
    "language_info": {
      "name": "python",
      "version": "3.6.4",
      "mimetype": "text/x-python",
      "codemirror_mode": {
        "name": "ipython",
        "version": 3
      },
      "pygments_lexer": "ipython3",
      "nbconvert_exporter": "python",
      "file_extension": ".py"
    },
    "nteract": {
      "version": "0.8.4"
    }
  },
  "nbformat": 4,
  "nbformat_minor": 4
}